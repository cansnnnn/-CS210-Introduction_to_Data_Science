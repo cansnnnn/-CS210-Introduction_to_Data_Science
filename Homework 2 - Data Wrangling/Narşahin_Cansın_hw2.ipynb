{
  "nbformat": 4,
  "nbformat_minor": 0,
  "metadata": {
    "colab": {
      "provenance": [],
      "collapsed_sections": []
    },
    "kernelspec": {
      "name": "python3",
      "display_name": "Python 3"
    },
    "language_info": {
      "name": "python"
    }
  },
  "cells": [
    {
      "cell_type": "markdown",
      "source": [
        "# Homework 2 - Data Wrangling\n",
        "\n",
        "\n",
        "*In this homework, you are going to work on a real-world dataset and perform some data transformations. We suggest you start the homework early.*\n",
        "\n",
        "**Submission Instructions**\n",
        "\n",
        "---\n",
        "It is important that you follow the submission instructions. \n",
        "1. Copy this assignment notebook to your Drive. <font color = 'red'> `File` --> `Save a copy in Drive`</font>. Rename it as <font color = 'green'>`Lastname_Firstname_hw2`</font>.\n",
        "\n",
        "2. Write your solutions in the cells  marked as <font color = 'green'>`# your code`</font>.\n",
        "\n",
        "3. **Do not delete your outputs**. They are essential for the grading. Make sure that cells containing your solutions are executed, and the results are displayed on the notebook.\n",
        "\n",
        "4. When you're done please submit your solutions as an <font color=\"red\">`.ipynb`</font> file. To do so:\n",
        "\n",
        "\n",
        "  a. Click on <font color=\"red\">`File`</font>  at the top left on the Colab screen, then click on <font color = 'red'>`Download .ipynb`</font>.\n",
        "\n",
        "  b. Then submit the downloaded <font color=\"red\">`.ipynb`</font> version of your work on SUCourse.\n",
        "\n",
        "\n",
        "For any question, please use the discussion page on Sucourse.\n",
        "\n",
        "---\n",
        "\n",
        "**Important Note: In this homework, you are not allowed to use Pandas.**"
      ],
      "metadata": {
        "id": "bzLXvNMN_gYM"
      }
    },
    {
      "cell_type": "markdown",
      "source": [
        "In this homework, you will work on a dataset from [Kaggle-Medium-2021-Data-Science-Articles](https://www.kaggle.com/datasets/viniciuslambert/medium-2021-data-science-articles-dataset). The dataset contains information on data science articles shared on Medium.com in 2021.\n",
        "\n",
        "For this homework, you will use the provided file `Medium_DS_Articles_2021_Dataset.csv`. This is a modified version of the original dataset.\n",
        "<!-- This is not the original data file, we modified and eliminated some parts. -->\n",
        "\n",
        "In the dataset, each row has 7 attribute values separated with `,`. These attributes are described in the list below with their respective order in the dataset.\n",
        "\n",
        "\n",
        "  1.   **url:** Refers to the url of the article\n",
        "\n",
        "  2.   **author:** Who has written the article\n",
        "\n",
        "  3.   **claps** Similar to \"Likes\" on Social Media\n",
        "\n",
        "  4.   **responses:** Comments written to the articles\n",
        "  \n",
        "  5.   **reading_time:** Reading time of articles recorded by Medium.com (In minutes)\n",
        "  \n",
        "  6.   **date:** The date the article was written\n",
        "\n",
        "\n",
        "A snapshot from the dataset containing three sample rows is also provided below.\n",
        "```\n",
        "['https://medium.com/@sellforte-insights/bayesian-data-analysis-a-brave-new-world-of-statistics-1fc3167812d7','sellforte-insights', '0.0', '0.0', '9-min', 'Data Science','2021-05-19']\n",
        "['https://towardsdatascience.com/how-to-improve-deep-learning-forecasts-for-time-series-part-2-c11efc8dfee2','michaelberk', '106.0', '0.0', '5-min', 'Machine Learning','2021-10-26']\n",
        "['https://medium.com/@paulshin17/intro-on-linear-regression-using-keras-predicting-real-estate-price-f0e94de1b912','paulshin17', '107.0', '0.0', '6-min', 'Data Science','2021-10-18']\n",
        "...\n",
        "```\n",
        "\n",
        "*Do not forget to add the shared `Medium_DS_Articles_2021_Dataset.csv` file to your drive and mount to your drive. Otherwise, you won't be able to read the file.*\n",
        "\n",
        "**!!!IMPORTANT: You are not allowed to use `pandas` in this homework**"
      ],
      "metadata": {
        "id": "kfiyUPnr_jYG"
      }
    },
    {
      "cell_type": "code",
      "source": [
        "from google.colab import drive\n",
        "drive.mount('./drive', force_remount=True)\n",
        "\n",
        "path_prefix = './drive/My Drive'"
      ],
      "metadata": {
        "colab": {
          "base_uri": "https://localhost:8080/"
        },
        "id": "EVlcLWud_ist",
        "outputId": "58eb0620-ed6d-4439-b058-fe5f6ed226a4"
      },
      "execution_count": 18,
      "outputs": [
        {
          "output_type": "stream",
          "name": "stdout",
          "text": [
            "Mounted at ./drive\n"
          ]
        }
      ]
    },
    {
      "cell_type": "code",
      "source": [
        "import numpy as np\n",
        "import matplotlib.pyplot as plt\n",
        "import re\n",
        "\n",
        "%matplotlib inline"
      ],
      "metadata": {
        "id": "30e5ET0u_rKp"
      },
      "execution_count": 19,
      "outputs": []
    },
    {
      "cell_type": "markdown",
      "source": [
        "## 10 Points - Q1: Read the Dataset\n",
        "\n",
        "In the provided dataset, entries are separated by commas. Read and store the file as a 2D numpy array. Each column should capture the corresponding fields.\n",
        "\n",
        "- Read the given file into a numpy array.\n",
        "- Print the number of rows and columns.\n",
        "- Print the number of unique Tags.\n",
        "\n",
        "Example Output:\n",
        "```\n",
        "Number of rows: 36810, columns: 7\n",
        "Number of unique Tags: 8\n",
        "```\n",
        "\n",
        "*Hint: Do not forget to skip the first line (the header).*"
      ],
      "metadata": {
        "id": "FtwZhhnm_s3r"
      }
    },
    {
      "cell_type": "code",
      "source": [
        "with open('Medium_DS_Articles_2021_Dataset.csv') as f:\n",
        "  d = np.genfromtxt(f, delimiter=',', dtype= str, skip_header=1 )\n",
        "\n",
        "row, col = d.shape\n",
        "\n",
        "print(\"Number of rows: \", row, \", columns: \", col, sep='')\n",
        "\n",
        "tags= d[:,5]\n",
        "\n",
        "print(\"Number of unique Tags:\", len(np.unique(tags)) )"
      ],
      "metadata": {
        "id": "QyDPMaYz_vJs",
        "colab": {
          "base_uri": "https://localhost:8080/"
        },
        "outputId": "8cb18397-5d69-4855-944f-9391cc188abe"
      },
      "execution_count": 20,
      "outputs": [
        {
          "output_type": "stream",
          "name": "stdout",
          "text": [
            "Number of rows: 36810, columns: 7\n",
            "Number of unique Tags: 8\n"
          ]
        }
      ]
    },
    {
      "cell_type": "markdown",
      "source": [
        "## 30 Points - Q2: Exploring Dataset"
      ],
      "metadata": {
        "id": "G6iSBqFE_1PI"
      }
    },
    {
      "cell_type": "markdown",
      "source": [
        "### 15 Points - Part A\n",
        "\n",
        "The tag field makes it easy to find the articles on the related topic. Examining the tags used in articles written in 2021 can give us information about which field has become more popular.\n",
        "\n",
        "- Print the name of each unique Tag and its frequency in data from the most frequent to least\n",
        "\n",
        "Example output:\n",
        "```\n",
        "Data Science           -   9033\n",
        "Machine Learning       -   7732\n",
        "Artificial Inteligence -   7552\n",
        "Data                   -   4810\n",
        "Deep Learning          -   2903\n",
        "X                      -   1674\n",
        "Big Data               -   1579\n",
        "Analytics              -   1527\n",
        "```"
      ],
      "metadata": {
        "id": "_9qqI1_X_3i0"
      }
    },
    {
      "cell_type": "code",
      "source": [
        "tag_num={}\n",
        "\n",
        "for i in tags: \n",
        "  if i in tag_num:\n",
        "    tag_num[i] +=1\n",
        "  else:\n",
        "    tag_num[i]=1\n",
        "\n",
        "tag_num= sorted(tag_num.items(), key=lambda item: item[1], reverse= True)\n",
        "\n",
        "for i in tag_num:\n",
        "  print(i[0],\" - \", i[1] )\n"
      ],
      "metadata": {
        "id": "wU1NkEAM_6ee",
        "colab": {
          "base_uri": "https://localhost:8080/"
        },
        "outputId": "2dc15dc3-a0bb-44cb-c7d0-333330692166"
      },
      "execution_count": 21,
      "outputs": [
        {
          "output_type": "stream",
          "name": "stdout",
          "text": [
            "Data Science  -  9033\n",
            "Machine Learning  -  7732\n",
            "Artificial Inteligence  -  7552\n",
            "Data  -  4810\n",
            "Deep Learning  -  2903\n",
            "X  -  1674\n",
            "Big Data  -  1579\n",
            "Analytics  -  1527\n"
          ]
        }
      ]
    },
    {
      "cell_type": "markdown",
      "source": [
        "### 15 Points - Part B\n",
        "\n",
        "When we examined the frequency of the tags, we learned that more articles were written about which topic. But there is a tag called '**X**' and we don't know what it means. We may want to check the rows containing this Tag and examine what they are. When we examine these, we see they all have the similar structure and there is something strange in the '**date**' field. We want you to rearrange these corrupted date fields so that every '**date**' value in the same format.\n",
        "\n",
        "**Note:** Some of the examples can be seen below where %Y represents years (e.g. 2022, 2021), %m month as a zero-padded decimal number (e.g. 07, 08) and %d day of the month as a zero-padded decimal number (e.g. 01, 03). You may assume that the order of date elements is always the same in the raw data: %Y %m %d.\n",
        "\n",
        "\n",
        "Corrupted Date formats are as follows:\n",
        "```\n",
        "'(%Y)::(%m)::(%d)', \n",
        "'%Y %m %d'\n",
        "```\n",
        "You **MUST** use **regular expressions** for this question. (Use the **re** library of Python)\n",
        "- Write a **function** that checks the format of date feature and returns True if all observations are in the expected format, otherwise returns False.\n",
        "    - **Name of the function**: validate_date_format\n",
        "    - **Input**: Date column\n",
        "    - **Output**: True if all date values are in the expected format (%Y-%m-%d --- 2022-10-22), otherwise False\n",
        "- Then, convert the **date** feature to the expected format.\n",
        "\n",
        "```\n",
        "Expected Date Format: '%Y-%m-%d' --> '2022-10-22'\n",
        "```"
      ],
      "metadata": {
        "id": "xOlWyha___nz"
      }
    },
    {
      "cell_type": "code",
      "source": [
        "def validate_date_format(date_col):\n",
        "  for date in date_col:\n",
        "    c_date = re.sub('[-]', '', date)\n",
        "    if len(date) != 10:\n",
        "      return False\n",
        "    elif len(re.findall(\"-\",date)) != 2:\n",
        "      return False\n",
        "    elif (not c_date.isnumeric()) or (len(c_date) != 8):\n",
        "     return False\n",
        "  return True\n",
        "\n",
        "\n",
        "print(validate_date_format(d[:,6])) # before converting dates returns false\n",
        "\n",
        "for i in d:\n",
        "  new_date = re.sub(r'[\\s|::|(|)-]', r'', i[6])\n",
        "  new_date = new_date[:4] + \"-\" + new_date[4:6] + \"-\" + new_date[6:]\n",
        "  i[6] = new_date\n",
        "\n",
        "print(validate_date_format(d[:,6])) # after converting dates returns true\n"
      ],
      "metadata": {
        "id": "VlSC1Ja-ACSz",
        "colab": {
          "base_uri": "https://localhost:8080/"
        },
        "outputId": "32b77251-0366-4534-ae0b-cf751eb371b9"
      },
      "execution_count": 22,
      "outputs": [
        {
          "output_type": "stream",
          "name": "stdout",
          "text": [
            "False\n",
            "True\n"
          ]
        }
      ]
    },
    {
      "cell_type": "markdown",
      "source": [
        "## 20 Points - Q3: Cleaning Data\n",
        "\n",
        "We learned that there are some removed articles. In Q2 Part B, we rearranged the format of the date feature. In this part, we will examine in which month more articles were deleted.\n",
        "\n",
        "- Display the total number of deleted articles per each month as a bar chart\n",
        "- At the end, delete these removed articles from the dataset\n",
        "\n"
      ],
      "metadata": {
        "id": "eB8OLrnJAIKa"
      }
    },
    {
      "cell_type": "code",
      "source": [
        "months = [\"January\", \"February\", \"March\", \"April\", \"May\", \"June\", \n",
        "          \"July\", \"August\", \"September\", \"October\", \"November\", \"December\"]\n",
        "\n",
        "del_num = [0,0,0,0,0,0,0,0,0,0,0,0]\n",
        "\n",
        "x_index=[] #for deleting later\n",
        "c=0\n",
        "\n",
        "for i in d:\n",
        "  if i[5] == \"X\":\n",
        "    m = int(i[6][5:7])\n",
        "    del_num[m-1] += 1\n",
        "\n",
        "    x_index.append(c)\n",
        "  c+=1\n",
        "\n",
        "plt.bar(months, del_num, color='maroon')\n",
        "plt.xlabel(\"Months\")\n",
        "plt.ylabel(\"Deleted Article Number\")\n",
        "plt.title(\"Deleted Articles by Month\")\n",
        "\n",
        "plt.show()\n",
        "\n",
        "\n",
        "#deleting\n",
        "d = np.delete(d, x_index, 0)\n"
      ],
      "metadata": {
        "id": "6mBB_RZuAKk2",
        "colab": {
          "base_uri": "https://localhost:8080/",
          "height": 295
        },
        "outputId": "b6c152b0-ebba-45fb-cb64-100f25f2f653"
      },
      "execution_count": 23,
      "outputs": [
        {
          "output_type": "display_data",
          "data": {
            "text/plain": [
              "<Figure size 432x288 with 1 Axes>"
            ],
            "image/png": "[encoded data removed]"
          },
          "metadata": {
            "needs_background": "light"
          }
        }
      ]
    },
    {
      "cell_type": "markdown",
      "source": [
        "## 40 Points - Q4: Features of Medium Articles"
      ],
      "metadata": {
        "id": "T1Fc4ZoXAPiX"
      }
    },
    {
      "cell_type": "markdown",
      "source": [
        "### 10 Points - Part A\n",
        "\n",
        "In this question, we will examine the different features of the articles on Medium. In Q3, we deleted the removed articles to examine the data that is not missing. First, let's check the new shape of our dataset.\n",
        "\n",
        "- Print the new number of rows and columns after dropping missing values.\n",
        "\n",
        "Medium has reading times calculated automatically by the site's own method which you can find in data. Take a quick look at the basic statistical information of this feature. \n",
        "\n",
        "- Print the maximum, minimum and average reading time of articles\n",
        "\n",
        "Example Output:\n",
        "```\n",
        "After cleaning, Number of rows: 35136, columns: 7\n",
        "Maximum reading time: 131.0\n",
        "Minimum reading time: 0.0\n",
        "Average reading time: 5.041182832422587\n",
        "```"
      ],
      "metadata": {
        "id": "qHnRYpO-ATY1"
      }
    },
    {
      "cell_type": "code",
      "source": [
        "print(\"After cleaning, Number of rows: \", d.shape[0], \", columns: \", d.shape[1], sep='')\n",
        "\n",
        "r_times = [float(re.sub('\\D', '', i[4])) for i in d] \n",
        "r_times=np.sort(r_times,0)\n",
        "\n",
        "print(\"Maximum reading time:\",r_times.max() )\n",
        "print(\"Minimum reading time:\",r_times.min() )\n",
        "print(\"Average reading time: \",r_times.mean() )"
      ],
      "metadata": {
        "id": "KCcTd0SyAVoi",
        "colab": {
          "base_uri": "https://localhost:8080/"
        },
        "outputId": "af329c44-5f0c-4e8c-f904-c1a2f94c3ba2"
      },
      "execution_count": 24,
      "outputs": [
        {
          "output_type": "stream",
          "name": "stdout",
          "text": [
            "After cleaning, Number of rows: 35136, columns: 7\n",
            "Maximum reading time: 131.0\n",
            "Minimum reading time: 0.0\n",
            "Average reading time:  5.041182832422587\n"
          ]
        }
      ]
    },
    {
      "cell_type": "markdown",
      "source": [
        "### 30 Points - Part B: Conditional Probability\n",
        "\n",
        "Claps and Responses show how many interaction an article get similar to likes and comments. We can find out which tag is likely to receive more interaction.\n",
        "\n",
        "$\\DeclareMathOperator*{\\argmax}{argmax} \\argmax\\limits_{\\small{tag} \\, \\in \\, \\text{Tag Category}}\\;P(\\text{Interaction}=\\text{1}|\\text{Tag Category}=\\text{tag})$\n",
        "\n",
        "- Add new column to data which shows '**interaction**' and its value is 1 if there is any interaction, otherwise 0.\n",
        "- For each tag category, calculate the conditional probability shown in the equation below.\n",
        "- Report the tag category that returns the highest conditional probability. \n",
        "- Print the tag category and its probability value.\n",
        "\n",
        "**Example Output:**\n",
        "```\n",
        "Data Science - 0.8334993911214437\n",
        "```"
      ],
      "metadata": {
        "id": "VhSXktqrAb8s"
      }
    },
    {
      "cell_type": "code",
      "source": [
        "inter = np.zeros((35136,1))\n",
        "\n",
        "for i in range(0, 35136):\n",
        "  if ( float(d[:,2][i]) > 0 ) or ( float(d[:,3][i]) > 0 ):\n",
        "    inter[i]=1\n",
        "\n",
        "d = np.append(d, inter, axis=1) #adds new column to data\n",
        "\n",
        "\n",
        "new_tag_num ={}\n",
        "tag_i={}\n",
        "\n",
        "for i in d: \n",
        "  if i[5] in new_tag_num:\n",
        "    new_tag_num[i[5]] +=1\n",
        "  else:\n",
        "    new_tag_num[i[5]]=1\n",
        "\n",
        "  if i[7]=='1.0':\n",
        "    if i[5] in tag_i:\n",
        "      tag_i[i[5]] +=1\n",
        "    else:\n",
        "      tag_i[i[5]]=1\n",
        "\n",
        "tag_probs={}\n",
        "\n",
        "for i in new_tag_num.items():\n",
        "  tag_probs[i[0]]= (tag_i[i[0]] / 35136 ) / (new_tag_num[i[0]] / 35136 )\n",
        "\n",
        "tag_probs= sorted(tag_probs.items(), key=lambda item: item[1], reverse= True)\n",
        "\n",
        "print(tag_probs[0][0], \"-\", tag_probs[0][1])"
      ],
      "metadata": {
        "id": "-SpHMvbAAcZs",
        "colab": {
          "base_uri": "https://localhost:8080/"
        },
        "outputId": "8cb990e5-7ac3-4532-a732-9b5a55820e9d"
      },
      "execution_count": 25,
      "outputs": [
        {
          "output_type": "stream",
          "name": "stdout",
          "text": [
            "Data Science - 0.8334993911214437\n"
          ]
        }
      ]
    }
  ]
}