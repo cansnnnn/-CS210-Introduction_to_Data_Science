{
  "nbformat": 4,
  "nbformat_minor": 0,
  "metadata": {
    "colab": {
      "provenance": [],
      "collapsed_sections": []
    },
    "kernelspec": {
      "name": "python3",
      "display_name": "Python 3"
    }
  },
  "cells": [
    {
      "cell_type": "markdown",
      "metadata": {
        "id": "JD9gUM7WW8iT"
      },
      "source": [
        "# Homework 1 - Practicing Python\n",
        "\n",
        "\n",
        "*In the first homework, you are going to work on a set of Python exercises.*\n",
        "\n",
        "**Submission Instructions**\n",
        "\n",
        "---\n",
        "It is important that you follow the submission instructions. \n",
        "1. Copy this assignment notebook to your Drive. <font color = 'red'> `File` --> `Save a copy in Drive`</font>. Rename it as <font color = 'green'>`Lastname_Firstname_hw1`</font>.\n",
        "\n",
        "2. Write your solutions in the cells  marked <font color = 'green'>`# your code`</font>.\n",
        "\n",
        "3. Do not delete your outputs. They are essential for the grading. Make sure that cells containing your solutions are executed, and the results are displayed on the notebook.\n",
        "\n",
        "4. When you're done please submit your solutions as an <font color=\"red\">`.ipynb`</font> file. To do so:\n",
        "\n",
        "\n",
        "  a. Click on <font color=\"red\">`File`</font>  at the top left on the Colab screen, then click on <font color = 'red'>`Download .ipynb`</font>.\n",
        "\n",
        "  b. Then submit the downloaded <font color=\"red\">`.ipynb`</font> version of your work on SUCourse.\n",
        "\n",
        "\n",
        "For any question, you may send an email to the TAs and LAs.\n",
        "\n",
        "---\n",
        "\n",
        "**Important Note:**   \n",
        "In this homework, you do not need to use any libraries than the built-in ones. Hence, you are not allowed to use any libraries, other than the [`pprint`](https://docs.python.org/3/library/pprint.html) library to produce better looking outputs. If you have doubt on what to use what not to use please ask your question in the SuCourse Homework Q&A forum."
      ]
    },
    {
      "cell_type": "markdown",
      "metadata": {
        "id": "rYfw-eaiBOBJ"
      },
      "source": [
        "## 15 points - Q1: Find the E-mail, Given the TA\n",
        "\n",
        "In the cell below, you have two dictionaries. First dictionary containes the TA names as their keys, and their surnames as the values in the dictionary. Second dictionary holds the e-mail addresses for each TA.\n",
        "\n",
        "Here, your goal is to write a fuction named `print_TAs_info` that will return the name, surname and the email information. Example output is as follows:\n",
        "\n",
        "\n",
        "```py\n",
        ">>> print_TAs_info(ta_names_surnames,ta_mails)\n",
        "Deren Ege Turan derenege@sabanciuniv.edu\n",
        "Vahid Khalili Param vahid.khalili@sabanciuniv.edu\n",
        "Mert Pekey mpekey@sabanciuniv.edu\n",
        "```"
      ]
    },
    {
      "cell_type": "code",
      "metadata": {
        "id": "_RCO6nIyEpv1"
      },
      "source": [
        "ta_names_surnames = {'Deren Ege': 'Turan', 'Vahid Khalili': 'Param', 'Mert': 'Pekey'}\n",
        "ta_mails = {'Deren Ege': 'derenege@sabanciuniv.edu', 'Vahid Khalili': 'vahid.khalili@sabanciuniv.edu', 'Mert': 'mpekey@sabanciuniv.edu'}\n"
      ],
      "execution_count": 69,
      "outputs": []
    },
    {
      "cell_type": "code",
      "metadata": {
        "id": "VsigiNj3FzgF",
        "colab": {
          "base_uri": "https://localhost:8080/"
        },
        "outputId": "47375be8-56d1-426d-d647-83db48bb0ec0"
      },
      "source": [
        "def print_TAs_info(ta_names_surnames,ta_mails):\n",
        "  for i in ta_names_surnames:\n",
        "    print(i, end=\" \")\n",
        "    print(ta_names_surnames[i], end =\" \")\n",
        "\n",
        "    if i in ta_mails.keys():\n",
        "        print(ta_mails[i], end =\" \")\n",
        "    else:\n",
        "        print(\"error\")\n",
        "\n",
        "    print(\"\")\n",
        "\n",
        "\n",
        "print_TAs_info(ta_names_surnames,ta_mails)\n"
      ],
      "execution_count": 70,
      "outputs": [
        {
          "output_type": "stream",
          "name": "stdout",
          "text": [
            "Deren Ege Turan derenege@sabanciuniv.edu \n",
            "Vahid Khalili Param vahid.khalili@sabanciuniv.edu \n",
            "Mert Pekey mpekey@sabanciuniv.edu \n"
          ]
        }
      ]
    },
    {
      "cell_type": "markdown",
      "metadata": {
        "id": "DwskSV1dAeoR"
      },
      "source": [
        "## 30 points - Q2: Inflation Rates\n",
        "\n",
        "Inflation rates measured by consumer price index for USA were taken from:\n",
        "https://www.kaggle.com/datasets/varpit94/us-inflation-data-updated-till-may-2021?resource=download\n",
        "\n",
        "Each line stores the month of the year, related consumer price index, seperated by a **comma**.\n",
        "\n",
        "In total, we have 1303 lines where the inflation rates are given monthly for years between 1913 and 2021.\n",
        "\n",
        "<a href=\"https://imgbb.com/\"><img src=\"https://i.ibb.co/hM5LGd9/inf-example.png\" alt=\"inf-example\" border=\"0\"></a>\n",
        "\n",
        "*Do not forget to add the shared file and then mount to your drive. Otherwise, you won't be able to read the file. If you do not know how, please go back to Week 1 recitation materials.*\n",
        "\n",
        "**Attention: You may want to transform the string to numbers by using float() function**"
      ]
    },
    {
      "cell_type": "markdown",
      "metadata": {
        "id": "EJdIEenmj6W_"
      },
      "source": [
        "### 15 points - **Part A**\n",
        "In this part, you should find the **maximum inflation rate change** between consecutive months by using the us_inf.csv file under assignment folder.\n",
        "\n",
        "At the end, the signature should have the similar signature as follows:\n",
        "\n",
        "```py\n",
        "Maximum inflation rate change is 5.882352941176478 between the dates: 01-06-1946 - 01-07-1946\n",
        "```\n",
        "\n",
        "\n",
        "\n"
      ]
    },
    {
      "cell_type": "code",
      "metadata": {
        "id": "tbaryKClTz5Z",
        "colab": {
          "base_uri": "https://localhost:8080/"
        },
        "outputId": "c577b5d7-bf90-412f-cae2-c834435cbda9"
      },
      "source": [
        "from google.colab import drive\n",
        "drive.mount(\"./drive/\", force_remount=True)"
      ],
      "execution_count": 71,
      "outputs": [
        {
          "output_type": "stream",
          "name": "stdout",
          "text": [
            "Mounted at ./drive/\n"
          ]
        }
      ]
    },
    {
      "cell_type": "code",
      "metadata": {
        "id": "NnRDeA3_SPi0",
        "colab": {
          "base_uri": "https://localhost:8080/"
        },
        "outputId": "cb2e5da5-bdbb-4528-f513-b73b22b2dac1"
      },
      "source": [
        "from os.path import join\n",
        "\n",
        "path_prefix = \"./drive/My Drive\"\n",
        "fname = \"us_inf.csv\"\n",
        "\n",
        "with open(join(path_prefix, fname), \"r\") as f:\n",
        "  lines = f.readlines()\n",
        "\n",
        "max_change=0\n",
        "min_date=\"\"\n",
        "max_date=\"\"\n",
        "\n",
        "change_list=[] #to use in part b\n",
        "\n",
        "for i in range(0,len(lines)-1):\n",
        "  first=lines[i].split(\",\")\n",
        "  second=lines[i+1].split(\",\")\n",
        "\n",
        "  inf_1=float(first[1].strip())\n",
        "  inf_2=float(second[1].strip())\n",
        "\n",
        "  change = (( inf_2 - inf_1 ) / inf_1)*100\n",
        "\n",
        "  change_list.append(inf_2 - inf_1)\n",
        "\n",
        "  if change > max_change:\n",
        "    max_change = change\n",
        "    min_date= first[0]\n",
        "    max_date= second[0]\n",
        "\n",
        "\n",
        "print(\"Maximum inflation rate change is\", max_change, \"between the dates:\", min_date, \"-\", max_date  )\n"
      ],
      "execution_count": 72,
      "outputs": [
        {
          "output_type": "stream",
          "name": "stdout",
          "text": [
            "Maximum inflation rate change is 5.882352941176478 between the dates: 01-06-1946 - 01-07-1946\n"
          ]
        }
      ]
    },
    {
      "cell_type": "markdown",
      "metadata": {
        "id": "pIBUWMoXSSwr"
      },
      "source": [
        "### 15 points - **Part B**\n",
        "\n",
        "Find the mean of changes of the inflation rates in USA between the consecutive dates.\n",
        "\n",
        "Expected output is as follows:\n",
        "\n",
        "```py\n",
        "Mean of changes of the inflation rates is: 0.20199769762087488\n",
        "```\n"
      ]
    },
    {
      "cell_type": "code",
      "metadata": {
        "id": "laBFy2HkSXpC",
        "colab": {
          "base_uri": "https://localhost:8080/"
        },
        "outputId": "8445d538-ee22-4ffb-a251-4cb29bcc1269"
      },
      "source": [
        "# change_list from part a\n",
        "\n",
        "sum_of_list=0\n",
        "len_of_list=1\n",
        "for i in change_list:\n",
        "  sum_of_list+= i\n",
        "  len_of_list+=1\n",
        "\n",
        "print(\"Mean of changes of the inflation rates is:\", sum_of_list/len_of_list)"
      ],
      "execution_count": 73,
      "outputs": [
        {
          "output_type": "stream",
          "name": "stdout",
          "text": [
            "Mean of changes of the inflation rates is: 0.20199769762087488\n"
          ]
        }
      ]
    },
    {
      "cell_type": "markdown",
      "metadata": {
        "id": "srIzF7eJYUAW"
      },
      "source": [
        "## 25 points - Q3: Matrix Multiplication \n",
        "\n",
        "List/array reshaping is one of the most fundamental operations in data manipulation. In the figure below, you see a 4x3 dimensional list of lists (a list that contains lists) named `a` that has integers from 1 to 12. We can take another matrix `b` of the form 3x2 dimensional list of lists and multiply them and create a new list of list of size 4x2. \n",
        "\n",
        "![](https://i.ibb.co/hHWcdBQ/mm-drawio-nt3.png)\n",
        "\n",
        "By referencing the figure above, write a function named `matrix_multiplication` which will find the multiplication of the given two matrices. At the end, it should return the resulting matrix.\n",
        "\n",
        "```py\n",
        ">>> a = [[1,2],\n",
        "         [3,4],\n",
        "         [5,6],\n",
        "         [7,8]]\n",
        ">>> b = [[9,10,11],\n",
        "         [12,13,14]]\n",
        ">>> matrix_multiplication(a,b)\n",
        "33\t36\t39\t\n",
        "75\t82\t89\t\n",
        "117\t128\t139\t\n",
        "159\t174\t189\n",
        "```\n",
        "\n",
        "If the given list of lists do not represent a proper matrix (e.g., [[1,2], [3,4,5]] then, it should print \"Not a proper matrix\" and return None, if the number of columns of the first matrix is not equal to the number of the rows of the second matrix, it should again prints \"Not suitable for multiplication\" and return None. \n",
        "\n",
        "```py\n",
        ">>> a = [[1, 2, 3], [5, 6]]\n",
        ">>> b = [[1, 2, 3], [4, 5, 6]]\n",
        ">>> matrix_multiplication(x,y)\n",
        "\"Not a proper matrix\"\n",
        "\n",
        ">>> a = [[1, 2, 3], [4, 5, 6]]\n",
        ">>> b = [[1, 2, 3], [4, 5, 6]]\n",
        ">>> matrix_multiplication(arr)\n",
        "\"Not suitable for multiplication\"\n",
        "```"
      ]
    },
    {
      "cell_type": "code",
      "metadata": {
        "id": "iZgKbmvbZM61"
      },
      "source": [
        "# 4x2 matrix\n",
        "a = [[1, 2],\n",
        "     [3, 4],\n",
        "     [5, 6],\n",
        "     [7, 8]]\n",
        "# 2x3 matrix\n",
        "b = [[9,10,11],\n",
        "     [12,13,14]]\n",
        "# result is 4x3\n"
      ],
      "execution_count": 74,
      "outputs": []
    },
    {
      "cell_type": "code",
      "source": [
        "def matrix_multiplication(a,b):\n",
        "  proper_check=True\n",
        "  if (len(a) ==0) or (len(b)==0): proper_check=False \n",
        "  else:\n",
        "    col_a=len(a[0])\n",
        "    col_b=len(b[0])\n",
        "    for i in a:\n",
        "      if len(i) != col_a: proper_check=False \n",
        "    for i in b:\n",
        "      if len(i) != col_b: proper_check=False\n",
        "  \n",
        "  if not proper_check:\n",
        "    print(\"Not a proper matrix\")\n",
        "    return\n",
        "  \n",
        "  if(len(b)!= len(a[0])): \n",
        "    print(\"Not suitable for multiplication\")\n",
        "    return\n",
        "\n",
        "  result_matrix=[]\n",
        "  for i in range(0,len(a)):\n",
        "    row_i=[]\n",
        "    list_1= a[i]\n",
        "    for j in range(0,len(b[0])):\n",
        "      product=0\n",
        "      for m in range(0,len(list_1)):\n",
        "        product += b[m][j]*list_1[m]\n",
        "      row_i.append(product)\n",
        "    result_matrix.append(row_i)\n",
        "\n",
        "  for r in result_matrix:\n",
        "    print(*r)\n",
        "\n",
        "  return result_matrix\n",
        "\n",
        "matrix_multiplication(a,b)\n"
      ],
      "metadata": {
        "colab": {
          "base_uri": "https://localhost:8080/"
        },
        "id": "O6q665FWgNcs",
        "outputId": "84c7b254-7bb1-4ab8-8ce4-1e2574d365a1"
      },
      "execution_count": 75,
      "outputs": [
        {
          "output_type": "stream",
          "name": "stdout",
          "text": [
            "33 36 39\n",
            "75 82 89\n",
            "117 128 139\n",
            "159 174 189\n"
          ]
        },
        {
          "output_type": "execute_result",
          "data": {
            "text/plain": [
              "[[33, 36, 39], [75, 82, 89], [117, 128, 139], [159, 174, 189]]"
            ]
          },
          "metadata": {},
          "execution_count": 75
        }
      ]
    },
    {
      "cell_type": "markdown",
      "metadata": {
        "id": "_0FzjI4Li18J"
      },
      "source": [
        "## 30 points - Q4: Top k Frequent Words in a File\n",
        "\n",
        "\n",
        "In the shared assignment folder, you have a file named sherlock.txt which stores the famous book written by Arhurt Conan Doyle.\n",
        "\n",
        "Write a function named top_k_frequent_words which will take a file name as it's parameter and an integer k that is how many frequent words that we are going to return. Function reads the text file and returns the most k frequent words and how many times they have occured in that file. After finding the top_k_frequent_words, report mean, median and std(sample) between their frequencies. \\\\\n",
        "Hint: Remove the symbols such as: [. , ? ! ; : \\n] \\\\\n",
        "Example signature is as follows: (here k=5)\n",
        "\n",
        "```py\n",
        ">>> top_k_frequent_words(\"file_path\",5)\n",
        "\"the\" occured 5704 times\n",
        "\"and\" occured 2939 times\n",
        "\"of\" occured 2762 times\n",
        "\"to\" occured 2733 times\n",
        "\"a\" occured 2651 times\n",
        "mean: 3357.8\n",
        "median: 2762\n",
        "std: 1315.7665826429854\n",
        "```\n",
        "\n",
        "*Do not forget to add the shared file and then mount to your drive. Otherwise, you won't be able to read the file.*"
      ]
    },
    {
      "cell_type": "code",
      "source": [
        "from os.path import join\n",
        "\n",
        "def top_k_frequent_words(file_name,n):\n",
        "  path_prefix = \"./drive/My Drive\"\n",
        "  with open(join(path_prefix, file_name), \"r\") as f:\n",
        "    s = f.read()\n",
        "\n",
        "  s=s.lower()\n",
        "  words=s.split()\n",
        "  word_count={}\n",
        "  punc = [\"!\", \"(\", \")\", \"-\", \"[\", \"]\" ,\"{\" ,\"}\" ,\";\" ,\":\" ,\n",
        "          \",\", \"<\", \">\", \".\", \"/\", \"?\", \"@\", \"#\", \"$\", \"%\", \n",
        "          \"^\", \"&\", \"*\", \"_\", \"~\", \"+\", \"=\", \"`\", \"|\", \"'\", '\"', \"\\\\\"]\n",
        "\n",
        "  for word in words:\n",
        "    new_word=word\n",
        "    for ch in word:\n",
        "      if ch in punc:\n",
        "        new_word=word.replace(ch, \"\")\n",
        "    if new_word not in word_count:\n",
        "      word_count[new_word]=1\n",
        "    else:\n",
        "      word_count[new_word]=1+word_count[new_word]\n",
        "\n",
        "  word_count= sorted(word_count.items(), key=lambda item: item[1], reverse= True)\n",
        "\n",
        "  count=0\n",
        "  sum_for_mean=0\n",
        "\n",
        "  for item in word_count:\n",
        "    print(item[0], \"occured\", item[1], \"times\" )\n",
        "    count+=1\n",
        "    sum_for_mean+= item[1]\n",
        "    if count== n:\n",
        "      break\n",
        "\n",
        "  mean= sum_for_mean/n\n",
        "  print(\"mean:\", mean)\n",
        "  \n",
        "  median=0\n",
        "  if n%2==0:\n",
        "    median+= word_count[(n//2)-1][1]+ word_count[n//2][1]\n",
        "    median/=2\n",
        "  else:\n",
        "    median+= word_count[n//2][1]\n",
        "\n",
        "  print(\"median:\", median) \n",
        "\n",
        "  dist_sum_std=0\n",
        "  for i in range(n): \n",
        "    dist_sum_std+= ((mean-word_count[i][1])**2) /n\n",
        "\n",
        "  std= dist_sum_std**(1/2)\n",
        "  print(\"std:\", std) \n",
        "\n",
        "top_k_frequent_words(\"sherlock.txt\",5)\n"
      ],
      "metadata": {
        "id": "UQuPrNXLNxNL",
        "colab": {
          "base_uri": "https://localhost:8080/"
        },
        "outputId": "263bf1c8-b89f-4de0-eb72-89b6bfc8515e"
      },
      "execution_count": 76,
      "outputs": [
        {
          "output_type": "stream",
          "name": "stdout",
          "text": [
            "the occured 5788 times\n",
            "and occured 3058 times\n",
            "i occured 2969 times\n",
            "of occured 2771 times\n",
            "to occured 2751 times\n",
            "mean: 3467.4\n",
            "median: 2969\n",
            "std: 1166.1386881499132\n"
          ]
        }
      ]
    }
  ]
}